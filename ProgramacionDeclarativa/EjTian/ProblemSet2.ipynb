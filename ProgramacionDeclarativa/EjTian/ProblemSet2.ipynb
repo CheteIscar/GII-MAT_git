{
 "cells": [
  {
   "cell_type": "markdown",
   "metadata": {},
   "source": [
    "# Declarative Programming @ URJC\n",
    "# Functional programming\n",
    "## Problem Set 2: Algebraic data types"
   ]
  },
  {
   "cell_type": "markdown",
   "metadata": {},
   "source": [
    "## Exercise 1"
   ]
  },
  {
   "cell_type": "markdown",
   "metadata": {},
   "source": [
    "### Part a)"
   ]
  },
  {
   "cell_type": "markdown",
   "metadata": {},
   "source": [
    "Prove that the isomorphism $1+1 \\cong Boolean$ holds by implementing the following bijections: "
   ]
  },
  {
   "cell_type": "code",
   "execution_count": 3,
   "metadata": {},
   "outputs": [
    {
     "data": {
      "text/plain": [
       "defined \u001b[32mfunction\u001b[39m \u001b[36mto\u001b[39m\n",
       "defined \u001b[32mfunction\u001b[39m \u001b[36mfrom\u001b[39m"
      ]
     },
     "execution_count": 3,
     "metadata": {},
     "output_type": "execute_result"
    }
   ],
   "source": [
    "def to(a: Either[Unit, Unit]) : Boolean = \n",
    "    a match {\n",
    "        case Left(l: Unit) => true\n",
    "        case _ => false\n",
    "    }\n",
    "def from(b: Boolean): Either[Unit, Unit] = \n",
    "    if(b) Left(())\n",
    "    else Right(())"
   ]
  },
  {
   "cell_type": "code",
   "execution_count": 3,
   "metadata": {},
   "outputs": [
    {
     "data": {
      "text/plain": [
       "defined \u001b[32mfunction\u001b[39m \u001b[36mtoBoolean\u001b[39m"
      ]
     },
     "execution_count": 3,
     "metadata": {},
     "output_type": "execute_result"
    }
   ],
   "source": [
    "def toBoolean(a: Either[Unit, Unit]): Boolean = \n",
    "    a match {\n",
    "        case l: Left[Unit, Unit] => true\n",
    "        case r: Right[Unit, Unit] => false\n",
    "    }\n",
    "//hacemos pattern matching (casi siempre con el tipo suma)\n",
    "//esto nos permite una de las dos funciones"
   ]
  },
  {
   "cell_type": "code",
   "execution_count": 7,
   "metadata": {},
   "outputs": [
    {
     "data": {
      "text/plain": [
       "defined \u001b[32mfunction\u001b[39m \u001b[36mfromBoolean\u001b[39m\n",
       "\u001b[36mres6_1\u001b[39m: \u001b[32mBoolean\u001b[39m = true\n",
       "\u001b[36mres6_2\u001b[39m: \u001b[32mBoolean\u001b[39m = true"
      ]
     },
     "execution_count": 7,
     "metadata": {},
     "output_type": "execute_result"
    }
   ],
   "source": [
    "def fromBoolean(a: Boolean): Either[Unit, Unit] = \n",
    "    a match {\n",
    "        case true => Left(())\n",
    "        case false => Right(())\n",
    "    }\n",
    "\n",
    "toBoolean(fromBoolean(true)) == true\n",
    "fromBoolean(toBoolean(Left(()))) == Left(())"
   ]
  },
  {
   "cell_type": "markdown",
   "metadata": {},
   "source": [
    "Check that they are indeed mutual inverses, i.e. that for all $a: Boolean$, `toBoolean(fromBoolean(a))==a`, and that for all $a: Either[Unit, Unit]$, `fromBoolean(toBoolean(a))==a`."
   ]
  },
  {
   "cell_type": "markdown",
   "metadata": {},
   "source": [
    "### Part b)"
   ]
  },
  {
   "cell_type": "markdown",
   "metadata": {},
   "source": [
    "Show that we can redefine `Option[A]` using `Either[A,Unit]`: \n",
    "Estamos viendo la biyección A + 0 con A + 1"
   ]
  },
  {
   "cell_type": "code",
   "execution_count": 10,
   "metadata": {},
   "outputs": [
    {
     "data": {
      "text/plain": [
       "defined \u001b[32mfunction\u001b[39m \u001b[36mfrom\u001b[39m\n",
       "defined \u001b[32mfunction\u001b[39m \u001b[36mto\u001b[39m"
      ]
     },
     "execution_count": 10,
     "metadata": {},
     "output_type": "execute_result"
    }
   ],
   "source": [
    "def from[A](o: Option[A]): Either[A, Unit] = \n",
    "    o match{\n",
    "        case Some(a) => Left(a)\n",
    "        case None => Right(())\n",
    "    }\n",
    "\n",
    "def to[A](e: Either[A, Unit]): Option[A] = \n",
    "   e match{\n",
    "       case Left(a) => Some(a)\n",
    "       case Right(()) => None\n",
    "   } "
   ]
  },
  {
   "cell_type": "markdown",
   "metadata": {},
   "source": [
    "Check that these functions are mutual inverses. For that, fix $A$ to particular types (e.g. `Boolean`, `Int`, etc.), and test the equivalences `from(to(e)) == e` and `to(from(o)) == o` for some values $o$ and $e$."
   ]
  },
  {
   "cell_type": "markdown",
   "metadata": {},
   "source": [
    "## Exercise 2"
   ]
  },
  {
   "cell_type": "markdown",
   "metadata": {},
   "source": [
    "How many functions are there of type `1+1+1 => Boolean`? Identify all of them as alternative implementations of the following signature: "
   ]
  },
  {
   "cell_type": "code",
   "execution_count": 4,
   "metadata": {},
   "outputs": [
    {
     "data": {
      "text/plain": [
       "defined \u001b[32mfunction\u001b[39m \u001b[36mf1\u001b[39m\n",
       "defined \u001b[32mfunction\u001b[39m \u001b[36mf2\u001b[39m\n",
       "\u001b[36ma1\u001b[39m: \u001b[32mEither\u001b[39m[\u001b[32mUnit\u001b[39m, \u001b[32mEither\u001b[39m[\u001b[32mUnit\u001b[39m, \u001b[32mUnit\u001b[39m]] = \u001b[33mLeft\u001b[39m(())"
      ]
     },
     "execution_count": 4,
     "metadata": {},
     "output_type": "execute_result"
    }
   ],
   "source": [
    "def f1(e: Either[Unit, Either[Unit, Unit]]): Boolean = \n",
    "   e match {\n",
    "       case Left(()) => true\n",
    "       case Right(Left(())) => true\n",
    "       case Right(Right(())) => true\n",
    "   }\n",
    "\n",
    "def f2(e: Either[Unit, Either[Unit, Unit]]): Boolean =\n",
    "    e match {\n",
    "        case Left(()) => false\n",
    "        case Right(Left(())) => false\n",
    "        case Right(Right(())) => false\n",
    "    }\n",
    "\n",
    "val a1: Either[Unit, Either[Unit, Unit]] = Left(())\n",
    "//Creo que hay dos por cada uno; lo cual da 2x3=6"
   ]
  },
  {
   "cell_type": "markdown",
   "metadata": {},
   "source": [
    "Idem, as alternative lambda expressions:"
   ]
  },
  {
   "cell_type": "code",
   "execution_count": null,
   "metadata": {},
   "outputs": [],
   "source": [
    "lazy val f1: Either[Unit, Either[Unit, Unit]] => Boolean = \n",
    "    ???"
   ]
  },
  {
   "cell_type": "markdown",
   "metadata": {},
   "source": [
    "## Exercise 3"
   ]
  },
  {
   "cell_type": "markdown",
   "metadata": {},
   "source": [
    "How many different implementations are there of the following function signature? Recall that two implementations will be considered different if the corresponding mathematical functions are different. Write all of them."
   ]
  },
  {
   "cell_type": "code",
   "execution_count": 6,
   "metadata": {},
   "outputs": [
    {
     "data": {
      "text/plain": [
       "defined \u001b[32mfunction\u001b[39m \u001b[36mf1\u001b[39m\n",
       "defined \u001b[32mfunction\u001b[39m \u001b[36mf2\u001b[39m\n",
       "defined \u001b[32mfunction\u001b[39m \u001b[36mf3\u001b[39m\n",
       "\u001b[36mbA\u001b[39m: \u001b[32mBoolean\u001b[39m = true\n",
       "\u001b[36mres5_4\u001b[39m: \u001b[32mEither\u001b[39m[\u001b[32mUnit\u001b[39m, \u001b[32mEither\u001b[39m[\u001b[32mUnit\u001b[39m, \u001b[32mUnit\u001b[39m]] = \u001b[33mLeft\u001b[39m(())\n",
       "\u001b[36mres5_5\u001b[39m: \u001b[32mEither\u001b[39m[\u001b[32mUnit\u001b[39m, \u001b[32mEither\u001b[39m[\u001b[32mUnit\u001b[39m, \u001b[32mUnit\u001b[39m]] = \u001b[33mRight\u001b[39m(\u001b[33mLeft\u001b[39m(()))\n",
       "\u001b[36mres5_6\u001b[39m: \u001b[32mEither\u001b[39m[\u001b[32mUnit\u001b[39m, \u001b[32mEither\u001b[39m[\u001b[32mUnit\u001b[39m, \u001b[32mUnit\u001b[39m]] = \u001b[33mRight\u001b[39m(\u001b[33mRight\u001b[39m(()))"
      ]
     },
     "execution_count": 6,
     "metadata": {},
     "output_type": "execute_result"
    }
   ],
   "source": [
    "def f1(b: Boolean): Either[Unit, Either[Unit, Unit]] = \n",
    "    b match {\n",
    "        case true => Left(())\n",
    "        case false => Left(())\n",
    "    }\n",
    "def f2(b: Boolean): Either[Unit, Either[Unit, Unit]] = \n",
    "    b match {\n",
    "        case true => Right(Left(()))\n",
    "        case false => Right(Left(()))\n",
    "    }\n",
    "def f3(b: Boolean): Either[Unit, Either[Unit, Unit]] =\n",
    "    b match {\n",
    "        case true => Right(Right(()))\n",
    "        case false => Right(Right(()))\n",
    "    }\n",
    "\n",
    "val bA: Boolean = true\n",
    "f1(bA)\n",
    "f2(bA)\n",
    "f3(bA)\n",
    "\n",
    "//No sé muy bien si se refiere a esto; creo que sí"
   ]
  },
  {
   "cell_type": "markdown",
   "metadata": {},
   "source": [
    "## Exercise 4"
   ]
  },
  {
   "cell_type": "markdown",
   "metadata": {},
   "source": [
    "Show that the following law holds for exponent types: $(Z^X)^Y \\cong Z^{X*Y}$, for all types $X$, $Y$ and $Z$."
   ]
  },
  {
   "cell_type": "code",
   "execution_count": 2,
   "metadata": {},
   "outputs": [
    {
     "data": {
      "text/plain": [
       "defined \u001b[32mfunction\u001b[39m \u001b[36mcurry\u001b[39m"
      ]
     },
     "execution_count": 2,
     "metadata": {},
     "output_type": "execute_result"
    }
   ],
   "source": [
    "//A partir de aquí; no\n",
    "def curry[X, Y, Z](f: (X, Y) => Z): X => Y => Z = \n",
    "{\n",
    "    (x: X) => (y: Y) => f(x, y)\n",
    "} : (X => Y => Z)"
   ]
  },
  {
   "cell_type": "code",
   "execution_count": 3,
   "metadata": {},
   "outputs": [
    {
     "data": {
      "text/plain": [
       "defined \u001b[32mfunction\u001b[39m \u001b[36muncurry\u001b[39m"
      ]
     },
     "execution_count": 3,
     "metadata": {},
     "output_type": "execute_result"
    }
   ],
   "source": [
    "def uncurry[X, Y, Z](f: X => Y => Z): (X, Y) => Z = \n",
    "{\n",
    "    (x: X, y: Y) => f(x)(y)\n",
    "} : ((X, Y) => Z)"
   ]
  },
  {
   "cell_type": "markdown",
   "metadata": {},
   "source": [
    "Implement function equality for the following signatures and check that both functions, `curry` and `uncurry`, are inverses of each other for two sample functions $ex1$ and $ex2$:  "
   ]
  },
  {
   "cell_type": "code",
   "execution_count": null,
   "metadata": {},
   "outputs": [],
   "source": [
    "def equal1(f1: Boolean => Boolean => Boolean, \n",
    "          f2: Boolean => Boolean => Boolean): Boolean = \n",
    "    ???"
   ]
  },
  {
   "cell_type": "code",
   "execution_count": null,
   "metadata": {},
   "outputs": [],
   "source": [
    "def equal2(f1: (Boolean, Boolean) => Boolean, \n",
    "          f2: (Boolean, Boolean) => Boolean): Boolean = \n",
    "    ???"
   ]
  },
  {
   "cell_type": "code",
   "execution_count": null,
   "metadata": {},
   "outputs": [],
   "source": [
    "def ex1: Boolean => Boolean => Boolean = \n",
    "    ???\n",
    "\n",
    "def ex2: (Boolean, Boolean) => Boolean = \n",
    "    ???"
   ]
  },
  {
   "cell_type": "code",
   "execution_count": null,
   "metadata": {},
   "outputs": [],
   "source": [
    "// Check that curry and uncurry are inverses of each other for sample\n",
    "// functions `ex1` and `ex2`\n"
   ]
  },
  {
   "cell_type": "markdown",
   "metadata": {},
   "source": [
    "## Exercise 5"
   ]
  },
  {
   "cell_type": "markdown",
   "metadata": {},
   "source": [
    "Shows that the following law holds for exponent types: $(Y*Z)^X \\cong Y^X*Z^X$, for all types $X$, $Y$ and $Z$."
   ]
  },
  {
   "cell_type": "code",
   "execution_count": 4,
   "metadata": {},
   "outputs": [
    {
     "data": {
      "text/plain": [
       "defined \u001b[32mfunction\u001b[39m \u001b[36mfrom\u001b[39m"
      ]
     },
     "execution_count": 4,
     "metadata": {},
     "output_type": "execute_result"
    }
   ],
   "source": [
    "def from[X, Y, Z](f: X => (Y, Z)): (X => Y, X => Z) =\n",
    "    ((x: X) => f(x)._1, (x: X) => f(x)._2)"
   ]
  },
  {
   "cell_type": "code",
   "execution_count": 6,
   "metadata": {},
   "outputs": [
    {
     "data": {
      "text/plain": [
       "defined \u001b[32mfunction\u001b[39m \u001b[36mto\u001b[39m"
      ]
     },
     "execution_count": 6,
     "metadata": {},
     "output_type": "execute_result"
    }
   ],
   "source": [
    "def to[X, Y, Z](t: (X => Y, X => Z)): (X => (Y, Z)) = \n",
    "    (x: X) => (t._1(x), t._2(x))"
   ]
  },
  {
   "cell_type": "markdown",
   "metadata": {},
   "source": [
    "Fix the type parameters to particular types $A$, $B$ and $C$, implement equality for the corresponding signatures and check that both functions, `from[A, B, C]` and `to[A, B, C]`, are inverses of each other given two sample functions of your choice.  "
   ]
  },
  {
   "cell_type": "code",
   "execution_count": null,
   "metadata": {},
   "outputs": [],
   "source": []
  }
 ],
 "metadata": {
  "kernelspec": {
   "display_name": "Scala",
   "language": "scala",
   "name": "scala"
  },
  "language_info": {
   "codemirror_mode": "text/x-scala",
   "file_extension": ".sc",
   "mimetype": "text/x-scala",
   "name": "scala",
   "nbconvert_exporter": "script",
   "version": "2.13.3"
  }
 },
 "nbformat": 4,
 "nbformat_minor": 4
}
