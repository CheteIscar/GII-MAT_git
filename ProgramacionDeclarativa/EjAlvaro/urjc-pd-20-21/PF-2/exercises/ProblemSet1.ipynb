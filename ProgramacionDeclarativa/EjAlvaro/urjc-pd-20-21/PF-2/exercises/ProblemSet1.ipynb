{
 "cells": [
  {
   "cell_type": "markdown",
   "metadata": {},
   "source": [
    "# Declarative Programming @ URJC\n",
    "# Functional programming\n",
    "## Problem Set 1: Functions"
   ]
  },
  {
   "cell_type": "markdown",
   "metadata": {},
   "source": [
    "## Exercise 1"
   ]
  },
  {
   "cell_type": "markdown",
   "metadata": {},
   "source": [
    "Implement the following _function-methods_ as standard _function-values_ without any syntactic sugar, i.e. as instances of the corresponding trait [Function1](https://www.scala-lang.org/api/current/scala/Function1.html), [Function2](https://www.scala-lang.org/api/current/scala/Function2.html), etc. Implement alternative versions using `object`/`val` declarations, and different levels of type inference."
   ]
  },
  {
   "cell_type": "code",
   "execution_count": 1,
   "metadata": {},
   "outputs": [
    {
     "data": {
      "text/plain": [
       "\u001b[32mimport \u001b[39m\u001b[36mscala.math._\n",
       "\n",
       "\u001b[39m\r\n",
       "defined \u001b[32mobject\u001b[39m \u001b[36mFunctionMethods\u001b[39m"
      ]
     },
     "execution_count": 1,
     "metadata": {},
     "output_type": "execute_result"
    }
   ],
   "source": [
    "import scala.math._\n",
    "\n",
    "object FunctionMethods{\n",
    "    \n",
    "    def circleArea(radius: Double): Double = \n",
    "        Pi*pow(radius, 2)\n",
    "    \n",
    "    def triangleArea(base: Double, height: Double): Double = \n",
    "        base * height / 2\n",
    "    \n",
    "    def rectangleArea(width: Double, height: Double): Double = \n",
    "        width * height\n",
    "    \n",
    "    def trapezoidArea(width1: Double, width2: Double, height: Double): Double = \n",
    "        (width1 + width2) * height / 2 \n",
    "}"
   ]
  },
  {
   "cell_type": "code",
   "execution_count": 4,
   "metadata": {},
   "outputs": [
    {
     "data": {
      "text/plain": [
       "\u001b[32mimport \u001b[39m\u001b[36mscala.math._\n",
       "\n",
       "\u001b[39m\r\n",
       "defined \u001b[32mobject\u001b[39m \u001b[36mFunctionValuesNoSugar\u001b[39m"
      ]
     },
     "execution_count": 4,
     "metadata": {},
     "output_type": "execute_result"
    }
   ],
   "source": [
    "import scala.math._\n",
    "\n",
    "object FunctionValuesNoSugar{\n",
    "    \n",
    "    // object circleArea ...\n",
    "    object circleArea{\n",
    "        def apply(radius:Double): Double = \n",
    "            Pi*pow(radius, 2)\n",
    "    }\n",
    "    // object triangleArea ...\n",
    "    \n",
    "    // val rectangleArea = ...\n",
    "    val rectangleArea: Function2[Double, Double, Double] = new Function2[Double, Double, Double]{\n",
    "        def apply(width: Double, height: Double): Double =\n",
    "            width * height\n",
    "    }\n",
    "    // val trapezoidArea: ... = ...\n",
    "    val trapezoidArea: Function3[Double, Double, Double,Double] = new Function3[Double, Double, Double, Double]{\n",
    "        def apply(width1: Double, width2: Double, height: Double): Double = \n",
    "            (width1 + width2) * height / 2 \n",
    "    }\n",
    "}"
   ]
  },
  {
   "cell_type": "markdown",
   "metadata": {},
   "source": [
    "## Exercise 2"
   ]
  },
  {
   "cell_type": "markdown",
   "metadata": {},
   "source": [
    "The same as in exercise 1, but using lambda expressions. Implement alternative versions with different levels of type inference and syntactic sugar (e.g. using _underscore_ syntax)."
   ]
  },
  {
   "cell_type": "code",
   "execution_count": 10,
   "metadata": {},
   "outputs": [
    {
     "data": {
      "text/plain": [
       "\u001b[32mimport \u001b[39m\u001b[36mscala.math._\n",
       "\n",
       "\u001b[39m\r\n",
       "defined \u001b[32mobject\u001b[39m \u001b[36mFunctionValuesSugar\u001b[39m"
      ]
     },
     "execution_count": 10,
     "metadata": {},
     "output_type": "execute_result"
    }
   ],
   "source": [
    "import scala.math._\n",
    "\n",
    "object FunctionValuesSugar{\n",
    "    /*\n",
    "    def rectangleArea(width: Double, height: Double): Double = \n",
    "        width * height\n",
    "    \n",
    "    def trapezoidArea(width1: Double, width2: Double, height: Double): Double = \n",
    "        (width1 + width2) * height / 2 )\n",
    "    */\n",
    "    // val circleArea: ??? => ??? = ???\n",
    "    val circleArea: Double => Double =\n",
    "        radio => Pi*pow(radio, 2)\n",
    "    // val triangleArea: ??? => ??? = ???\n",
    "    val triangleArea: (Double,Double) => Double = \n",
    "        (width,height) => width*height\n",
    "    \n",
    "    // val rectangleArea = ???\n",
    "    val rectangleArea: (Double,Double) => Double =\n",
    "        _*_\n",
    "    // val trapezoidArea: ??? = ???\n",
    "    val trapezoidArea: (Double,Double,Double) => Double =\n",
    "        (width1: Double, width2: Double, height: Double) => (width1 + width2) * height / 2 \n",
    "    \n",
    "}"
   ]
  },
  {
   "cell_type": "code",
   "execution_count": 13,
   "metadata": {},
   "outputs": [
    {
     "data": {
      "text/plain": [
       "\u001b[36mres12_0\u001b[39m: \u001b[32mDouble\u001b[39m = \u001b[32m12.566370614359172\u001b[39m\r\n",
       "\u001b[36mres12_1\u001b[39m: \u001b[32mDouble\u001b[39m = \u001b[32m6.0\u001b[39m\r\n",
       "\u001b[36mres12_2\u001b[39m: \u001b[32mDouble\u001b[39m = \u001b[32m4.5\u001b[39m"
      ]
     },
     "execution_count": 13,
     "metadata": {},
     "output_type": "execute_result"
    }
   ],
   "source": [
    "FunctionValuesSugar.circleArea(2)\n",
    "FunctionValuesSugar.rectangleArea(2,3)\n",
    "FunctionValuesSugar.trapezoidArea(1,2,3)"
   ]
  },
  {
   "cell_type": "markdown",
   "metadata": {},
   "source": [
    "## Exercise 3 "
   ]
  },
  {
   "cell_type": "markdown",
   "metadata": {},
   "source": [
    "Implement the function-methods as _currified_ function-values."
   ]
  },
  {
   "cell_type": "code",
   "execution_count": 21,
   "metadata": {},
   "outputs": [
    {
     "data": {
      "text/plain": [
       "\u001b[32mimport \u001b[39m\u001b[36mscala.math._\n",
       "\n",
       "\u001b[39m\r\n",
       "defined \u001b[32mobject\u001b[39m \u001b[36mFunctionValuesCurrified\u001b[39m"
      ]
     },
     "execution_count": 21,
     "metadata": {},
     "output_type": "execute_result"
    }
   ],
   "source": [
    "import scala.math._\n",
    "\n",
    "object FunctionValuesCurrified{\n",
    "    \n",
    "    // val circleArea = ...\n",
    "    \n",
    "    // val triangleArea = ...\n",
    "        /*val triangleArea: (Double,Double) => Double = \n",
    "        (width,height) => width*height\n",
    "        */\n",
    "    val triangleArea: Double => (Double => Double)=\n",
    "        width => width*_\n",
    "    // val rectangleArea = ...\n",
    "    \n",
    "    // val trapezoid = ...\n",
    "}"
   ]
  },
  {
   "cell_type": "code",
   "execution_count": 22,
   "metadata": {},
   "outputs": [
    {
     "data": {
      "text/plain": [
       "\u001b[36mres21\u001b[39m: \u001b[32mDouble\u001b[39m = \u001b[32m8.0\u001b[39m"
      ]
     },
     "execution_count": 22,
     "metadata": {},
     "output_type": "execute_result"
    }
   ],
   "source": [
    "FunctionValuesCurrified.triangleArea(4)(2)"
   ]
  },
  {
   "cell_type": "markdown",
   "metadata": {},
   "source": [
    "## Exercise 4"
   ]
  },
  {
   "cell_type": "markdown",
   "metadata": {},
   "source": [
    "Given the following monomorphic version of the `call` HOF "
   ]
  },
  {
   "cell_type": "code",
   "execution_count": 1,
   "metadata": {},
   "outputs": [
    {
     "data": {
      "text/plain": [
       "defined \u001b[32mfunction\u001b[39m \u001b[36mcall\u001b[39m"
      ]
     },
     "execution_count": 1,
     "metadata": {},
     "output_type": "execute_result"
    }
   ],
   "source": [
    "def call(f: Int => Int, a: Int): Int =\n",
    "    f(a)"
   ]
  },
  {
   "cell_type": "markdown",
   "metadata": {},
   "source": [
    "implement a polymorphic version as a function-method, so that it can work with multiple types (i.e. not only with functions of type `Int => Int`). Test that your implementation is correct by checking that the following examples compile and work as expected."
   ]
  },
  {
   "cell_type": "code",
   "execution_count": 5,
   "metadata": {},
   "outputs": [
    {
     "data": {
      "text/plain": [
       "defined \u001b[32mfunction\u001b[39m \u001b[36mcall\u001b[39m\r\n",
       "\u001b[36mres4_1\u001b[39m: \u001b[32mInt\u001b[39m = \u001b[32m2\u001b[39m\r\n",
       "\u001b[36mres4_2\u001b[39m: \u001b[32mInt\u001b[39m = \u001b[32m4\u001b[39m\r\n",
       "\u001b[36mres4_3\u001b[39m: \u001b[32mString\u001b[39m = \u001b[32m\"hello, pepe\"\u001b[39m"
      ]
     },
     "execution_count": 5,
     "metadata": {},
     "output_type": "execute_result"
    }
   ],
   "source": [
    "def call[A,B](f:A => B, a:A): B = \n",
    "    f(a)\n",
    "\n",
    "call[Int, Int](_ + 1, 1)\n",
    "call((i: Int) => i+1, 3)\n",
    "call(\"hello, \" + _, \"pepe\")\n",
    "// call((_ : Int) > 0, 3)\n",
    "// call((i: Int) => i < 0, 2)"
   ]
  },
  {
   "cell_type": "markdown",
   "metadata": {},
   "source": [
    "## Exercise 5"
   ]
  },
  {
   "cell_type": "markdown",
   "metadata": {},
   "source": [
    "Given the following monomorphic version of the `call` HOF "
   ]
  },
  {
   "cell_type": "code",
   "execution_count": 26,
   "metadata": {},
   "outputs": [
    {
     "data": {
      "text/plain": [
       "defined \u001b[32mfunction\u001b[39m \u001b[36mcall\u001b[39m"
      ]
     },
     "execution_count": 26,
     "metadata": {},
     "output_type": "execute_result"
    }
   ],
   "source": [
    "def call(f: Int => Int)(a: Int): Int =\n",
    "    f(a)"
   ]
  },
  {
   "cell_type": "markdown",
   "metadata": {},
   "source": [
    "implement a polymorphic version as a currified function-value, so that it can work with multiple types. The implementation must comply with the following template:"
   ]
  },
  {
   "cell_type": "code",
   "execution_count": 6,
   "metadata": {},
   "outputs": [
    {
     "data": {
      "text/plain": [
       "defined \u001b[32mfunction\u001b[39m \u001b[36mcall\u001b[39m"
      ]
     },
     "execution_count": 6,
     "metadata": {},
     "output_type": "execute_result"
    }
   ],
   "source": [
    "// def call[A, B]: ... = ???\n",
    "def call[A,B](a:B => A)(b:B): A =\n",
    "    a(b)"
   ]
  },
  {
   "cell_type": "markdown",
   "metadata": {},
   "source": [
    "Test that your implementation is correct by checking that the following examples compile and work as expected."
   ]
  },
  {
   "cell_type": "code",
   "execution_count": 7,
   "metadata": {},
   "outputs": [
    {
     "data": {
      "text/plain": [
       "\u001b[36mres6\u001b[39m: \u001b[32mInt\u001b[39m = \u001b[32m2\u001b[39m"
      ]
     },
     "execution_count": 7,
     "metadata": {},
     "output_type": "execute_result"
    }
   ],
   "source": [
    "call[Int, Int](_ + 1)(1)\n",
    "// call((i: Int) => i+1)(3)\n",
    "// call(\"hello, \" + _)(\"pepe\")\n",
    "// call((_ : Int) > 0)(3)\n",
    "// call((i: Int) => i < 0)(2)"
   ]
  },
  {
   "cell_type": "markdown",
   "metadata": {},
   "source": [
    "## Exercise 6"
   ]
  },
  {
   "cell_type": "markdown",
   "metadata": {},
   "source": [
    "Implement the identity laws of function composition:\n",
    "1. `(identity[B] compose f)(a) == f(a)` for all `f: A => B`, `a: A`\n",
    "2. `(f compose identity[A])(a) == f(a)` for all `f: A => B`, `a: A`"
   ]
  },
  {
   "cell_type": "code",
   "execution_count": null,
   "metadata": {},
   "outputs": [],
   "source": [
    "def identityRightLaw[A, B](f: A => B, a: A): Boolean = \n",
    "    ???"
   ]
  },
  {
   "cell_type": "code",
   "execution_count": null,
   "metadata": {},
   "outputs": [],
   "source": [
    "def identityLeftLaw[A, B](f: A => B, a: A): Boolean = \n",
    "    ???"
   ]
  }
 ],
 "metadata": {
  "kernelspec": {
   "display_name": "Scala",
   "language": "scala",
   "name": "scala"
  },
  "language_info": {
   "codemirror_mode": "text/x-scala",
   "file_extension": ".sc",
   "mimetype": "text/x-scala",
   "name": "scala",
   "nbconvert_exporter": "script",
   "version": "2.13.3"
  }
 },
 "nbformat": 4,
 "nbformat_minor": 2
}
