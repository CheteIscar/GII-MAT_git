{
 "cells": [
  {
   "cell_type": "markdown",
   "metadata": {},
   "source": [
    "# Programación declarativa @ URJC\n",
    "# Programación funcional\n",
    "## Examen simulado\n",
    "## Curso 19-20"
   ]
  },
  {
   "cell_type": "markdown",
   "metadata": {},
   "source": [
    "# Definiciones auxiliares"
   ]
  },
  {
   "cell_type": "code",
   "execution_count": 1,
   "metadata": {},
   "outputs": [
    {
     "data": {
      "text/plain": [
       "\u001b[32mimport \u001b[39m\u001b[36m$ivy.$                               \n",
       "\u001b[39m\r\n",
       "\u001b[32mimport \u001b[39m\u001b[36morg.scalatest._\u001b[39m"
      ]
     },
     "execution_count": 1,
     "metadata": {},
     "output_type": "execute_result"
    }
   ],
   "source": [
    "import $ivy.`org.scalatest::scalatest:3.0.8`\n",
    "import org.scalatest._"
   ]
  },
  {
   "cell_type": "markdown",
   "metadata": {},
   "source": [
    "### Algunas funciones sobre listas"
   ]
  },
  {
   "cell_type": "code",
   "execution_count": 2,
   "metadata": {},
   "outputs": [
    {
     "data": {
      "text/plain": [
       "defined \u001b[32mobject\u001b[39m \u001b[36mSignatures\u001b[39m"
      ]
     },
     "execution_count": 2,
     "metadata": {},
     "output_type": "execute_result"
    }
   ],
   "source": [
    "object Signatures{\n",
    "    abstract class List[A]{\n",
    "        def foldRight[B](directSol: B)(composeSol: (A, B) => B): B\n",
    "        def foldLeft[B](initial: B)(update: (B, A) => B): B\n",
    "        def map[B](f: A => B): List[B]\n",
    "        def flatMap[B](f: A => List[B]): List[B]\n",
    "        def filter(f: A => Boolean): List[A]\n",
    "        def reverse: List[A]\n",
    "        def forall(pred: A => Boolean): Boolean\n",
    "        def exists(pred: A => Boolean): Boolean\n",
    "    }\n",
    "}"
   ]
  },
  {
   "cell_type": "markdown",
   "metadata": {},
   "source": [
    "### Definiciones sobre árboles binarios"
   ]
  },
  {
   "cell_type": "code",
   "execution_count": 3,
   "metadata": {},
   "outputs": [
    {
     "data": {
      "text/plain": [
       "defined \u001b[32mclass\u001b[39m \u001b[36mTree\u001b[39m\r\n",
       "defined \u001b[32mclass\u001b[39m \u001b[36mEmpty\u001b[39m\r\n",
       "defined \u001b[32mclass\u001b[39m \u001b[36mNode\u001b[39m"
      ]
     },
     "execution_count": 3,
     "metadata": {},
     "output_type": "execute_result"
    }
   ],
   "source": [
    "sealed abstract class Tree[A]\n",
    "case class Empty[A]() extends Tree[A]\n",
    "case class Node[A](left: Tree[A], root: A, right: Tree[A]) extends Tree[A]"
   ]
  },
  {
   "cell_type": "code",
   "execution_count": 4,
   "metadata": {},
   "outputs": [
    {
     "data": {
      "text/plain": [
       "defined \u001b[32mobject\u001b[39m \u001b[36mTree\u001b[39m\r\n",
       "\u001b[32mimport \u001b[39m\u001b[36mTree._\u001b[39m"
      ]
     },
     "execution_count": 4,
     "metadata": {},
     "output_type": "execute_result"
    }
   ],
   "source": [
    "object Tree{\n",
    "    \n",
    "    def void[A]: Tree[A] = \n",
    "        Empty()\n",
    "    \n",
    "    def leaf[A](a: A): Node[A] = \n",
    "        Node(Empty(), a, Empty())\n",
    "    \n",
    "    def right[A](a: A, tree: Tree[A]): Node[A] = \n",
    "        Node(Empty(), a, tree)\n",
    "    \n",
    "    def left[A](tree: Tree[A], a: A): Node[A] = \n",
    "        Node(tree, a, Empty())\n",
    "    \n",
    "    def node[A](left: Tree[A], a: A, right: Tree[A]): Node[A] = \n",
    "        Node(left, a, right)\n",
    "    \n",
    "    def foldTree[A, B](tree: Tree[A])(empty: B)(node: (B, A, B) => B): B = \n",
    "        tree match {\n",
    "            case Empty() => \n",
    "                empty\n",
    "            case Node(left, a, right) =>\n",
    "                node(foldTree(left)(empty)(node),\n",
    "                    a,\n",
    "                    foldTree(right)(empty)(node))\n",
    "        }\n",
    "}\n",
    "\n",
    "import Tree._"
   ]
  },
  {
   "cell_type": "markdown",
   "metadata": {},
   "source": [
    "### Modelo de datos de películas"
   ]
  },
  {
   "cell_type": "code",
   "execution_count": 5,
   "metadata": {},
   "outputs": [
    {
     "data": {
      "text/plain": [
       "defined \u001b[32mclass\u001b[39m \u001b[36mMovieDatabase\u001b[39m\r\n",
       "defined \u001b[32mclass\u001b[39m \u001b[36mFilm\u001b[39m\r\n",
       "defined \u001b[32mobject\u001b[39m \u001b[36mFilm\u001b[39m\r\n",
       "defined \u001b[32mclass\u001b[39m \u001b[36mUser\u001b[39m\r\n",
       "defined \u001b[32mobject\u001b[39m \u001b[36mUser\u001b[39m\r\n",
       "defined \u001b[32mclass\u001b[39m \u001b[36mRating\u001b[39m"
      ]
     },
     "execution_count": 5,
     "metadata": {},
     "output_type": "execute_result"
    }
   ],
   "source": [
    "case class MovieDatabase(\n",
    "    films: Map[Film.Id, Film],\n",
    "    users: Map[User.Id, User],\n",
    "    ratings: Map[(Film.Id, User.Id), Rating])\n",
    "    \n",
    "case class Film(\n",
    "    id: Film.Id, \n",
    "    title: String, \n",
    "    director: String,\n",
    "    genre: String,\n",
    "    year: Int,\n",
    "    country: String)\n",
    "\n",
    "object Film{\n",
    "    type Id = Int\n",
    "}\n",
    "\n",
    "case class User(\n",
    "    id: User.Id,\n",
    "    name: String,\n",
    "    registered: Int)\n",
    "        \n",
    "object User{\n",
    "    type Id = Int\n",
    "}\n",
    "        \n",
    "case class Rating(\n",
    "    film: Film.Id,\n",
    "    user: User.Id,\n",
    "    score: Int)"
   ]
  },
  {
   "cell_type": "code",
   "execution_count": 6,
   "metadata": {},
   "outputs": [
    {
     "data": {
      "text/plain": [
       "\u001b[36mmoviedb\u001b[39m: \u001b[32mMovieDatabase\u001b[39m = \u001b[33mMovieDatabase\u001b[39m(\n",
       "  \u001b[33mHashMap\u001b[39m(\n",
       "    \u001b[32m5\u001b[39m -> \u001b[33mFilm\u001b[39m(\n",
       "      \u001b[32m5\u001b[39m,\n",
       "      \u001b[32m\"2001: A Space Odyssey\"\u001b[39m,\n",
       "      \u001b[32m\"Stanley Kubrick\"\u001b[39m,\n",
       "      \u001b[32m\"Sci-Fi\"\u001b[39m,\n",
       "      \u001b[32m1968\u001b[39m,\n",
       "      \u001b[32m\"United Kingdom\"\u001b[39m\n",
       "    ),\n",
       "    \u001b[32m10\u001b[39m -> \u001b[33mFilm\u001b[39m(\n",
       "      \u001b[32m10\u001b[39m,\n",
       "      \u001b[32m\"Batman v. Superman: Dawn of Justice\"\u001b[39m,\n",
       "      \u001b[32m\"Zack Snyder\"\u001b[39m,\n",
       "      \u001b[32m\"Sci-Fi\"\u001b[39m,\n",
       "      \u001b[32m2016\u001b[39m,\n",
       "      \u001b[32m\"United States\"\u001b[39m\n",
       "    ),\n",
       "    \u001b[32m1\u001b[39m -> \u001b[33mFilm\u001b[39m(\u001b[32m1\u001b[39m, \u001b[32m\"Blade Runner\"\u001b[39m, \u001b[32m\"Ridley Scott\"\u001b[39m, \u001b[32m\"Sci-Fi\"\u001b[39m, \u001b[32m1982\u001b[39m, \u001b[32m\"United States\"\u001b[39m),\n",
       "    \u001b[32m6\u001b[39m -> \u001b[33mFilm\u001b[39m(\u001b[32m6\u001b[39m, \u001b[32m\"El crack Cero\"\u001b[39m, \u001b[32m\"Jos\\u00e9 Luis Garci\"\u001b[39m, \u001b[32m\"Film noir\"\u001b[39m, \u001b[32m2019\u001b[39m, \u001b[32m\"Spain\"\u001b[39m),\n",
       "    \u001b[32m9\u001b[39m -> \u001b[33mFilm\u001b[39m(\u001b[32m9\u001b[39m, \u001b[32m\"Chinatown\"\u001b[39m, \u001b[32m\"Roman Polanski\"\u001b[39m, \u001b[32m\"Film noir\"\u001b[39m, \u001b[32m1974\u001b[39m, \u001b[32m\"United States\"\u001b[39m),\n",
       "    \u001b[32m2\u001b[39m -> \u001b[33mFilm\u001b[39m(\n",
       "      \u001b[32m2\u001b[39m,\n",
       "      \u001b[32m\"Amanece, que no es poco\"\u001b[39m,\n",
       "      \u001b[32m\"Jos\\u00e9 Luis Cuerda\"\u001b[39m,\n",
       "      \u001b[32m\"Comedy\"\u001b[39m,\n",
       "      \u001b[32m1989\u001b[39m,\n",
       "      \u001b[32m\"Spain\"\u001b[39m\n",
       "    ),\n",
       "    \u001b[32m7\u001b[39m -> \u001b[33mFilm\u001b[39m(\u001b[32m7\u001b[39m, \u001b[32m\"El crack\"\u001b[39m, \u001b[32m\"Jos\\u00e9 Luis Garci\"\u001b[39m, \u001b[32m\"Film noir\"\u001b[39m, \u001b[32m1981\u001b[39m, \u001b[32m\"Spain\"\u001b[39m),\n",
       "    \u001b[32m3\u001b[39m -> \u001b[33mFilm\u001b[39m(\u001b[32m3\u001b[39m, \u001b[32m\"El milagro de P. Tinto\"\u001b[39m, \u001b[32m\"Javier Fesser\"\u001b[39m, \u001b[32m\"Comedy\"\u001b[39m, \u001b[32m1998\u001b[39m, \u001b[32m\"Spain\"\u001b[39m),\n",
       "    \u001b[32m11\u001b[39m -> \u001b[33mFilm\u001b[39m(\u001b[32m11\u001b[39m, \u001b[32m\"Dumb and Dumber\"\u001b[39m, \u001b[32m\"Peter Farrelly\"\u001b[39m, \u001b[32m\"Comedy\"\u001b[39m, \u001b[32m1994\u001b[39m, \u001b[32m\"United States\"\u001b[39m),\n",
       "    \u001b[32m8\u001b[39m -> \u001b[33mFilm\u001b[39m(\n",
       "..."
      ]
     },
     "execution_count": 6,
     "metadata": {},
     "output_type": "execute_result"
    }
   ],
   "source": [
    "val moviedb: MovieDatabase = MovieDatabase(\n",
    "    films = Map(\n",
    "        1 -> Film(1, \"Blade Runner\", \"Ridley Scott\", \"Sci-Fi\", 1982, \"United States\"),\n",
    "        2 -> Film(2, \"Amanece, que no es poco\", \"José Luis Cuerda\", \"Comedy\", 1989, \"Spain\"),\n",
    "        3 -> Film(3, \"El milagro de P. Tinto\", \"Javier Fesser\", \"Comedy\", 1998, \"Spain\"),\n",
    "        4 -> Film(4, \"Mars Attacks!\", \"Tim Burton\", \"Sci-Fi\", 1996, \"United States\"),\n",
    "        5 -> Film(5, \"2001: A Space Odyssey\", \"Stanley Kubrick\", \"Sci-Fi\", 1968, \"United Kingdom\"),\n",
    "        6 -> Film(6, \"El crack Cero\", \"José Luis Garci\", \"Film noir\", 2019, \"Spain\"),\n",
    "        7 -> Film(7, \"El crack\", \"José Luis Garci\", \"Film noir\", 1981, \"Spain\"),\n",
    "        8 -> Film(8, \"The Maltese Falcon\", \"John Huston\", \"Film noir\", 1941, \"United States\"),\n",
    "        9 -> Film(9, \"Chinatown\", \"Roman Polanski\", \"Film noir\", 1974, \"United States\"),\n",
    "        10 -> Film(10, \"Batman v. Superman: Dawn of Justice\", \"Zack Snyder\", \"Sci-Fi\", 2016, \"United States\"),\n",
    "        11 -> Film(11, \"Dumb and Dumber\", \"Peter Farrelly\", \"Comedy\", 1994, \"United States\")\n",
    "    ),\n",
    "    users = Map(\n",
    "        1 -> User(1, \"Juan\", 1500),\n",
    "        2 -> User(2, \"Alf\", 1555),\n",
    "        3 -> User(3, \"Lola\", 1644),\n",
    "        4 -> User(4, \"Lola\", 1655),\n",
    "        5 -> User(5, \"Dinu\", 1622)),\n",
    "    ratings = Map(\n",
    "        (1,1) -> Rating(1,1,5),\n",
    "        (1,2) -> Rating(1,2,1),\n",
    "        (1,3) -> Rating(1,3,4),\n",
    "        (1,4) -> Rating(1,4,3),\n",
    "        (2,1) -> Rating(2,1,1),\n",
    "        (2,4) -> Rating(2,4,1),\n",
    "        (4,1) -> Rating(4,1,3),\n",
    "        (5,4) -> Rating(5,4,2),\n",
    "        (6,1) -> Rating(6,1,2),\n",
    "        (7,1) -> Rating(7,1,3),\n",
    "        (7,2) -> Rating(7,2,3),\n",
    "        (7,3) -> Rating(7,3,3),\n",
    "        (8,2) -> Rating(8,2,2),\n",
    "        (9,1) -> Rating(9,1,1),\n",
    "        (10,1) -> Rating(10,1,0),\n",
    "        (10,3) -> Rating(10,3,0),\n",
    "        (11,1) -> Rating(11,1,0),\n",
    "        (11,2) -> Rating(11,2,1),\n",
    "        (11,4) -> Rating(11,4,2)))"
   ]
  },
  {
   "cell_type": "code",
   "execution_count": 7,
   "metadata": {},
   "outputs": [
    {
     "data": {
      "text/plain": [
       "defined \u001b[32mobject\u001b[39m \u001b[36mBasicQueries\u001b[39m\r\n",
       "\u001b[32mimport \u001b[39m\u001b[36mBasicQueries._\u001b[39m"
      ]
     },
     "execution_count": 7,
     "metadata": {},
     "output_type": "execute_result"
    }
   ],
   "source": [
    "object BasicQueries{\n",
    "    \n",
    "    // Entities\n",
    "    \n",
    "    def films(mdb: MovieDatabase): List[Film] =\n",
    "        mdb.films.values.toList\n",
    "    \n",
    "    def filmIds(mdb: MovieDatabase): List[Film.Id] =\n",
    "        mdb.films.keys.toList\n",
    "\n",
    "    def getFilm(id: Film.Id)(mdb: MovieDatabase): List[Film] = \n",
    "        mdb.films.get(id).toList\n",
    "    \n",
    "    def userIds(mdb: MovieDatabase): List[User.Id] = \n",
    "        mdb.users.keys.toList\n",
    "    \n",
    "    def getUser(id: User.Id)(mdb: MovieDatabase): List[User] = \n",
    "        mdb.users.get(id).toList\n",
    "    \n",
    "    // 1-N relationships\n",
    "    \n",
    "    def films(dir: String)(mdb: MovieDatabase): List[Film.Id] = \n",
    "        mdb.films.filter(_._2.director == dir).map(_._1).toList\n",
    "    \n",
    "    // N-M relationships\n",
    "    \n",
    "    def ratings(mdb: MovieDatabase): List[Rating] = \n",
    "        mdb.ratings.values.toList\n",
    "    \n",
    "    def userRatings(user: User.Id)(mdb: MovieDatabase): List[Rating] = \n",
    "        mdb.ratings.filter(_._1._2 == user).values.toList\n",
    "    \n",
    "    def filmRatings(film: Film.Id)(mdb: MovieDatabase): List[Rating] = \n",
    "        mdb.ratings.filter(_._1._1 == film).values.toList\n",
    "}\n",
    "\n",
    "import BasicQueries._"
   ]
  },
  {
   "cell_type": "markdown",
   "metadata": {},
   "source": [
    "# Ejercicio 1\n",
    "__(1 punto)__"
   ]
  },
  {
   "cell_type": "markdown",
   "metadata": {},
   "source": [
    "Implementa las siguientes funciones."
   ]
  },
  {
   "cell_type": "markdown",
   "metadata": {},
   "source": [
    "#### a) (0,25 puntos)"
   ]
  },
  {
   "cell_type": "code",
   "execution_count": 8,
   "metadata": {},
   "outputs": [
    {
     "data": {
      "text/plain": [
       "defined \u001b[32mfunction\u001b[39m \u001b[36maxiom1\u001b[39m"
      ]
     },
     "execution_count": 8,
     "metadata": {},
     "output_type": "execute_result"
    }
   ],
   "source": [
    "def axiom1[P, Q, R](f: P => Q => R)(g: P => Q): P => R = \n",
    "    (p:P) => f(p)(g(p))"
   ]
  },
  {
   "cell_type": "markdown",
   "metadata": {},
   "source": [
    "#### b) (0,25 puntos)"
   ]
  },
  {
   "cell_type": "code",
   "execution_count": 11,
   "metadata": {},
   "outputs": [
    {
     "data": {
      "text/plain": [
       "defined \u001b[32mfunction\u001b[39m \u001b[36maxiom2\u001b[39m"
      ]
     },
     "execution_count": 11,
     "metadata": {},
     "output_type": "execute_result"
    }
   ],
   "source": [
    "def axiom2[P, Q, R]: Either[P, Either[Q, R]] => Either[Either[P, Q], R] = \n",
    "\n",
    "        (s: Either[P, Either[Q, R]]) => \n",
    "\n",
    "        s match {\n",
    "            case Left(p) => Left(Left(p))\n",
    "            case Right(k) => k match{\n",
    "                case Left(q) => Left(Right(q))\n",
    "                case Right(r) => Right(r)\n",
    "            }\n",
    "        }"
   ]
  },
  {
   "cell_type": "markdown",
   "metadata": {},
   "source": [
    "#### c) (0,25 puntos)"
   ]
  },
  {
   "cell_type": "code",
   "execution_count": 12,
   "metadata": {},
   "outputs": [
    {
     "data": {
      "text/plain": [
       "defined \u001b[32mfunction\u001b[39m \u001b[36maxiom3\u001b[39m"
      ]
     },
     "execution_count": 12,
     "metadata": {},
     "output_type": "execute_result"
    }
   ],
   "source": [
    "def axiom3[P, Q, R, S](\n",
    "        f: P => Q, \n",
    "        g: R => S)(\n",
    "        e: Either[P, R]): Either[Q, S] = \n",
    "\n",
    "        e match{\n",
    "            case Left(p) => Left(f(p))\n",
    "            case Right(r) => Right(g(r))\n",
    "        }"
   ]
  },
  {
   "cell_type": "markdown",
   "metadata": {},
   "source": [
    "#### d) (0,25 puntos)"
   ]
  },
  {
   "cell_type": "code",
   "execution_count": 13,
   "metadata": {},
   "outputs": [
    {
     "data": {
      "text/plain": [
       "defined \u001b[32mfunction\u001b[39m \u001b[36maxiom4\u001b[39m"
      ]
     },
     "execution_count": 13,
     "metadata": {},
     "output_type": "execute_result"
    }
   ],
   "source": [
    "def axiom4[P, Q, R](f: P => Q, g: P => R): P => (Q, R) = \n",
    "    (p:P) => (f(p),g(p))"
   ]
  },
  {
   "cell_type": "markdown",
   "metadata": {},
   "source": [
    "# Ejercicio 2 \n",
    "__(3 puntos)__"
   ]
  },
  {
   "cell_type": "markdown",
   "metadata": {},
   "source": [
    "La función _penultimate_ devuelve el penúltimo elemento de una lista, en caso de que este exista. "
   ]
  },
  {
   "cell_type": "code",
   "execution_count": 15,
   "metadata": {},
   "outputs": [
    {
     "data": {
      "text/plain": [
       "defined \u001b[32mclass\u001b[39m \u001b[36mTestPenultimate\u001b[39m"
      ]
     },
     "execution_count": 15,
     "metadata": {},
     "output_type": "execute_result"
    }
   ],
   "source": [
    "class TestPenultimate(\n",
    "    penultimate: List[Int] => Option[Int]\n",
    ") extends FlatSpec with Matchers{\n",
    "    \n",
    "    \"penultimate\" should \"work\" in {\n",
    "        penultimate(List()) shouldBe None\n",
    "        penultimate(List(1)) shouldBe None\n",
    "        penultimate(List(2,3)) shouldBe Some(2)\n",
    "        penultimate(List(1,2,4,3,5)) shouldBe Some(3)\n",
    "    }\n",
    "}"
   ]
  },
  {
   "cell_type": "markdown",
   "metadata": {},
   "source": [
    "#### a) (1,5 puntos)\n",
    "Implementa la función de manera recursiva (no es necesario que sea recursiva por la cola)."
   ]
  },
  {
   "cell_type": "code",
   "execution_count": 18,
   "metadata": {},
   "outputs": [
    {
     "data": {
      "text/plain": [
       "defined \u001b[32mfunction\u001b[39m \u001b[36mpenultimate\u001b[39m"
      ]
     },
     "execution_count": 18,
     "metadata": {},
     "output_type": "execute_result"
    }
   ],
   "source": [
    "def penultimate[A](list: List[A]): Option[A] = \n",
    "    list match {\n",
    "        case Nil => None            \n",
    "        case h :: Nil => None\n",
    "        case h :: h2 :: Nil => Some(h)\n",
    "        case h :: tail => penultimate(tail)\n",
    "    }"
   ]
  },
  {
   "cell_type": "code",
   "execution_count": null,
   "metadata": {},
   "outputs": [],
   "source": [
    "def penultimate[A](list: List[A]): Option[A] = \n",
    "    list match {\n",
    "        case Nil => \n",
    "            None : Option[A]\n",
    "        case _ :: Nil => \n",
    "            None : Option[A]    \n",
    "        case head1 :: _ :: Nil => \n",
    "            Some(head1)\n",
    "        case _ :: tail1 => \n",
    "            penultimate(tail1)\n",
    "    }"
   ]
  },
  {
   "cell_type": "markdown",
   "metadata": {},
   "source": [
    "#### b) (1,5 puntos)\n",
    "Implementa la función utilizando `foldRight`."
   ]
  },
  {
   "cell_type": "code",
   "execution_count": 28,
   "metadata": {},
   "outputs": [
    {
     "data": {
      "text/plain": [
       "defined \u001b[32mfunction\u001b[39m \u001b[36mpenultimate\u001b[39m"
      ]
     },
     "execution_count": 28,
     "metadata": {},
     "output_type": "execute_result"
    }
   ],
   "source": [
    "def penultimate[A](list: List[A]): Option[A] = \n",
    "    list.foldRight[(Option[A],Int)]((None,0))(\n",
    "        (a:A, b:(Option[A],Int)) =>\n",
    "        if(b._2 == 1) (Some(a),10)\n",
    "        else (b._1,b._2+1)\n",
    "    )._1"
   ]
  },
  {
   "cell_type": "code",
   "execution_count": 29,
   "metadata": {},
   "outputs": [
    {
     "name": "stdout",
     "output_type": "stream",
     "text": [
      "\u001b[32mcmd14$Helper$TestPenultimate:\u001b[0m\n",
      "\u001b[32mpenultimate\u001b[0m\n",
      "\u001b[32m- should work\u001b[0m\n"
     ]
    }
   ],
   "source": [
    "run(new TestPenultimate(penultimate))"
   ]
  },
  {
   "cell_type": "markdown",
   "metadata": {},
   "source": [
    "# Ejercicio 3\n",
    "__(3 puntos)__\n",
    "\n",
    "La función `odds` devuelve los elementos de una lista que se encuentran situados en una posición impar (donde la posición del primer elemento es uno, del segundo dos, etc.)."
   ]
  },
  {
   "cell_type": "code",
   "execution_count": 35,
   "metadata": {},
   "outputs": [
    {
     "data": {
      "text/plain": [
       "defined \u001b[32mclass\u001b[39m \u001b[36mTestOdds\u001b[39m"
      ]
     },
     "execution_count": 35,
     "metadata": {},
     "output_type": "execute_result"
    }
   ],
   "source": [
    "class TestOdds(\n",
    "    odds: List[Int] => List[Int]\n",
    ") extends FlatSpec with Matchers{\n",
    "    \n",
    "    \"odds\" should \"work\" in {\n",
    "        odds(List()) shouldBe List()\n",
    "        odds(List(1)) shouldBe List(1)\n",
    "        odds(List(2,3)) shouldBe List(2)\n",
    "        odds(List(1,2,4,3,5)) shouldBe List(1,4,5)\n",
    "        odds(List(1,2,4,3,5,6)) shouldBe List(1,4,5)\n",
    "    }\n",
    "}"
   ]
  },
  {
   "cell_type": "markdown",
   "metadata": {},
   "source": [
    "#### a) (1,5 puntos)\n",
    "Implementa la función de manera recursiva, utilizando recursión por la cola. "
   ]
  },
  {
   "cell_type": "code",
   "execution_count": 34,
   "metadata": {},
   "outputs": [
    {
     "data": {
      "text/plain": [
       "defined \u001b[32mfunction\u001b[39m \u001b[36moddsTR\u001b[39m"
      ]
     },
     "execution_count": 34,
     "metadata": {},
     "output_type": "execute_result"
    }
   ],
   "source": [
    "def oddsTR[A](list: List[A]): List[A] = {\n",
    "    def odaux[a] (si:Boolean,list: List[A], sol:List[A]) : List[A] = {\n",
    "        list match{\n",
    "            case Nil => sol\n",
    "            case h :: tail if(si) => odaux(!si, tail, sol ++ List(h))\n",
    "            case _ :: tail => odaux(!si, tail, sol)\n",
    "        }\n",
    "    } \n",
    "    \n",
    "    odaux(true,list,List())\n",
    "}"
   ]
  },
  {
   "cell_type": "code",
   "execution_count": null,
   "metadata": {},
   "outputs": [],
   "source": [
    "def oddsTR[A](list: List[A]): List[A] = {\n",
    "    def oddsAux(out: List[A], insert: Boolean, \n",
    "                aux: List[A]): List[A] = \n",
    "        aux match {\n",
    "            case Nil => out \n",
    "            case head :: tail => \n",
    "                if (insert) \n",
    "                    oddsAux(head :: out, false, tail)\n",
    "                else\n",
    "                    oddsAux(out, true, tail)\n",
    "        }\n",
    "    oddsAux(List(), true, list).reverse\n",
    "}"
   ]
  },
  {
   "cell_type": "code",
   "execution_count": 36,
   "metadata": {},
   "outputs": [
    {
     "name": "stdout",
     "output_type": "stream",
     "text": [
      "\u001b[32mcmd34$Helper$TestOdds:\u001b[0m\n",
      "\u001b[32modds\u001b[0m\n",
      "\u001b[32m- should work\u001b[0m\n"
     ]
    }
   ],
   "source": [
    "run(new TestOdds(oddsTR))"
   ]
  },
  {
   "cell_type": "markdown",
   "metadata": {},
   "source": [
    "#### b) (1,5 puntos)\n",
    "Implementa la función utilizando la función `foldLeft`. "
   ]
  },
  {
   "cell_type": "code",
   "execution_count": 38,
   "metadata": {},
   "outputs": [
    {
     "data": {
      "text/plain": [
       "defined \u001b[32mfunction\u001b[39m \u001b[36moddsFL\u001b[39m"
      ]
     },
     "execution_count": 38,
     "metadata": {},
     "output_type": "execute_result"
    }
   ],
   "source": [
    "def oddsFL[A](list: List[A]): List[A] =\n",
    "    list.foldLeft[(Boolean,List[A])]((true,List()))( (b,a) => \n",
    "                                                    if(b._1) (!b._1,b._2 ++ List(a)) \n",
    "                                                    else (!b._1,b._2)\n",
    "                                                    : (Boolean, List[A]) )._2"
   ]
  },
  {
   "cell_type": "code",
   "execution_count": 39,
   "metadata": {},
   "outputs": [
    {
     "name": "stdout",
     "output_type": "stream",
     "text": [
      "\u001b[32mcmd34$Helper$TestOdds:\u001b[0m\n",
      "\u001b[32modds\u001b[0m\n",
      "\u001b[32m- should work\u001b[0m\n"
     ]
    }
   ],
   "source": [
    "run(new TestOdds(oddsFL))"
   ]
  },
  {
   "cell_type": "markdown",
   "metadata": {},
   "source": [
    "# Ejercicio 4\n",
    "(1,5 puntos)"
   ]
  },
  {
   "cell_type": "markdown",
   "metadata": {},
   "source": [
    "Un árbol se encuentra _balanceado_ si (1) es el árbol vacío o (2) si sus hijos izquierdo y derecho se encuentran balanceados, y la diferencia entre sus profundidades no excede la unidad. La profundidad de un árbol vacío es cero, y la de un árbol no vacío el máximo de las profundidades de sus hijos más uno."
   ]
  },
  {
   "cell_type": "code",
   "execution_count": 31,
   "metadata": {},
   "outputs": [
    {
     "data": {
      "text/plain": [
       "defined \u001b[32mclass\u001b[39m \u001b[36mTestBalanced\u001b[39m"
      ]
     },
     "execution_count": 31,
     "metadata": {},
     "output_type": "execute_result"
    }
   ],
   "source": [
    "class TestBalanced(\n",
    "    balanced: Tree[Int] => Boolean\n",
    ") extends FlatSpec with Matchers {\n",
    "    \n",
    "    \"balanced\" should \"work\" in {\n",
    "        balanced(void) shouldBe true\n",
    "        balanced(leaf(1)) shouldBe true\n",
    "        balanced(left(leaf(1), 2)) shouldBe true\n",
    "        balanced(node(leaf(1), 2, leaf(3))) shouldBe true\n",
    "        balanced(node(left(leaf(1),4), 2, leaf(3))) shouldBe true\n",
    "        balanced(right(3, left(leaf(1),4))) shouldBe false\n",
    "        balanced(node(right(3, left(leaf(1),4)),5,leaf(3))) shouldBe false\n",
    "    }\n",
    "}"
   ]
  },
  {
   "cell_type": "markdown",
   "metadata": {},
   "source": [
    "Se pide implementar una función que determine si un árbol está balanceado o no, utilizando la función auxiliar `foldTree`."
   ]
  },
  {
   "cell_type": "code",
   "execution_count": null,
   "metadata": {},
   "outputs": [],
   "source": [
    "def balanced[A](tree: Tree[A]): Boolean = \n",
    "    foldTree(tree)((true : Boolean, 0: Int))(\n",
    "        (solL: (Boolean, Int), \n",
    "         root, \n",
    "         solR: (Boolean, Int)) => \n",
    "            (solL._1 && solR._1 && \n",
    "              ((solL._2 - solR._2).abs <= 1) : Boolean,\n",
    "             1 + solL._2 max solR._2)\n",
    "    )._1"
   ]
  },
  {
   "cell_type": "code",
   "execution_count": 32,
   "metadata": {},
   "outputs": [
    {
     "data": {
      "text/plain": [
       "defined \u001b[32mfunction\u001b[39m \u001b[36mbalanced\u001b[39m"
      ]
     },
     "execution_count": 32,
     "metadata": {},
     "output_type": "execute_result"
    }
   ],
   "source": [
    "def balanced[A](tree: Tree[A]): Boolean = \n",
    "    foldTree(tree)((true,0))((b1,a,b2) => \n",
    "                            b1 match{\n",
    "                                case (false,_) =>  (false,-1)\n",
    "                                case (true, i) => b2 match{\n",
    "                                    case (false,_) => (false,-1)\n",
    "                                    case (true, j) => ((i-j).abs<=1,1+ i max j)\n",
    "                                }\n",
    "                            })._1"
   ]
  },
  {
   "cell_type": "code",
   "execution_count": 33,
   "metadata": {},
   "outputs": [
    {
     "name": "stdout",
     "output_type": "stream",
     "text": [
      "\u001b[32mcmd30$Helper$TestBalanced:\u001b[0m\n",
      "\u001b[32mbalanced\u001b[0m\n",
      "\u001b[32m- should work\u001b[0m\n"
     ]
    }
   ],
   "source": [
    "run(new TestBalanced(balanced))"
   ]
  },
  {
   "cell_type": "markdown",
   "metadata": {},
   "source": [
    "# Ejercicio 5\n",
    "(1,5 puntos)"
   ]
  },
  {
   "cell_type": "markdown",
   "metadata": {},
   "source": [
    "Dado el modelo de datos de películas, implementar una query que devuelva los títulos de las películas cuyas puntuaciones (`score`) sean todas superiores o iguales a tres."
   ]
  },
  {
   "cell_type": "code",
   "execution_count": null,
   "metadata": {},
   "outputs": [],
   "source": [
    "class TestTopMovies(\n",
    "    topMovies: MovieDatabase => List[String]\n",
    ") extends FlatSpec with Matchers {\n",
    "    \n",
    "    \"topMovies\" should \"work\" in {\n",
    "        topMovies(moviedb) shouldBe List(\n",
    "            \"El crack\",\n",
    "            \"El milagro de P. Tinto\",\n",
    "            \"Mars Attacks!\")\n",
    "    }\n",
    "}"
   ]
  },
  {
   "cell_type": "code",
   "execution_count": null,
   "metadata": {},
   "outputs": [],
   "source": [
    "def topMovies(mdb: MovieDatabase): List[String] = \n",
    "    films(mdb).map(film => \n",
    "        (film.title, filmRatings(film.id)(mdb))\n",
    "    ).filter(tuple => \n",
    "       tuple._2.forall(rating => rating.score >= 3) \n",
    "    ).map(tuple => tuple._1)"
   ]
  },
  {
   "cell_type": "code",
   "execution_count": null,
   "metadata": {},
   "outputs": [],
   "source": [
    "def topMovies(mdb: MovieDatabase): List[String] = \n",
    "    films(mdb).filter(film => \n",
    "        filmRatings(film.id)(mdb).forall(_.score >= 3)\n",
    "    ).map(_.title)"
   ]
  },
  {
   "cell_type": "code",
   "execution_count": null,
   "metadata": {},
   "outputs": [],
   "source": [
    "run(new TestTopMovies(topMovies))"
   ]
  }
 ],
 "metadata": {
  "kernelspec": {
   "display_name": "Scala",
   "language": "scala",
   "name": "scala"
  },
  "language_info": {
   "codemirror_mode": "text/x-scala",
   "file_extension": ".sc",
   "mimetype": "text/x-scala",
   "name": "scala",
   "nbconvert_exporter": "script",
   "version": "2.13.3"
  }
 },
 "nbformat": 4,
 "nbformat_minor": 2
}
