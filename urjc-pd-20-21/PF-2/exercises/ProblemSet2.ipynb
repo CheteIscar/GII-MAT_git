{
 "cells": [
  {
   "cell_type": "markdown",
   "metadata": {},
   "source": [
    "# Declarative Programming @ URJC\n",
    "# Functional programming\n",
    "## Problem Set 2: Algebraic data types"
   ]
  },
  {
   "cell_type": "markdown",
   "metadata": {},
   "source": [
    "## Exercise 1"
   ]
  },
  {
   "cell_type": "markdown",
   "metadata": {},
   "source": [
    "### Part a)"
   ]
  },
  {
   "cell_type": "markdown",
   "metadata": {},
   "source": [
    "Prove that the isomorphism $1+1 \\cong Boolean$ holds by implementing the following bijections: "
   ]
  },
  {
   "cell_type": "code",
   "execution_count": 1,
   "metadata": {},
   "outputs": [
    {
     "data": {
      "text/plain": [
       "defined \u001b[32mfunction\u001b[39m \u001b[36mtoBoolean\u001b[39m"
      ]
     },
     "execution_count": 1,
     "metadata": {},
     "output_type": "execute_result"
    }
   ],
   "source": [
    "def toBoolean(a: Either[Unit, Unit]): Boolean = \n",
    "    (a:Either[Unit,Unit]) match{\n",
    "        case Right(()) => true\n",
    "        case Left(()) => false\n",
    "    }"
   ]
  },
  {
   "cell_type": "code",
   "execution_count": 2,
   "metadata": {},
   "outputs": [
    {
     "data": {
      "text/plain": [
       "defined \u001b[32mfunction\u001b[39m \u001b[36mfromBoolean\u001b[39m"
      ]
     },
     "execution_count": 2,
     "metadata": {},
     "output_type": "execute_result"
    }
   ],
   "source": [
    "def fromBoolean(a: Boolean): Either[Unit, Unit] = \n",
    "    if(a) Right(()):Either[Unit,Unit]\n",
    "    else Left(()):Either[Unit,Unit]"
   ]
  },
  {
   "cell_type": "markdown",
   "metadata": {},
   "source": [
    "Check that they are indeed mutual inverses, i.e. that for all $a: Boolean$, `toBoolean(fromBoolean(a))==a`, and that for all $a: Either[Unit, Unit]$, `fromBoolean(toBoolean(a))==a`."
   ]
  },
  {
   "cell_type": "code",
   "execution_count": 10,
   "metadata": {},
   "outputs": [
    {
     "data": {
      "text/plain": [
       "\u001b[36ma\u001b[39m: \u001b[32mEither\u001b[39m[\u001b[32mUnit\u001b[39m, \u001b[32mUnit\u001b[39m] = \u001b[33mLeft\u001b[39m(())\r\n",
       "\u001b[36mb\u001b[39m: \u001b[32mBoolean\u001b[39m = false"
      ]
     },
     "execution_count": 10,
     "metadata": {},
     "output_type": "execute_result"
    }
   ],
   "source": [
    "val a = Left(()) : Either[Unit,Unit]\n",
    "val b = toBoolean(a)"
   ]
  },
  {
   "cell_type": "markdown",
   "metadata": {},
   "source": [
    "### Part b)"
   ]
  },
  {
   "cell_type": "markdown",
   "metadata": {},
   "source": [
    "Show that we can redefine `Option[A]` using `Either[A,Unit]`: "
   ]
  },
  {
   "cell_type": "code",
   "execution_count": 4,
   "metadata": {},
   "outputs": [
    {
     "data": {
      "text/plain": [
       "defined \u001b[32mfunction\u001b[39m \u001b[36mfrom\u001b[39m\r\n",
       "defined \u001b[32mfunction\u001b[39m \u001b[36mto\u001b[39m"
      ]
     },
     "execution_count": 4,
     "metadata": {},
     "output_type": "execute_result"
    }
   ],
   "source": [
    "def from[A](o: Option[A]): Either[A, Unit] = \n",
    "    o match{\n",
    "        case None => Right(())\n",
    "        case Some(a:A) => Left(a:A)\n",
    "    }\n",
    "        \n",
    "    \n",
    "\n",
    "def to[A](e: Either[A, Unit]): Option[A] = \n",
    "    e match{\n",
    "        case Left(a:A) => Some(a)\n",
    "        case Right(()) => None\n",
    "    }"
   ]
  },
  {
   "cell_type": "code",
   "execution_count": 33,
   "metadata": {},
   "outputs": [
    {
     "data": {
      "text/plain": [
       "\u001b[36mres32\u001b[39m: \u001b[32mBoolean\u001b[39m = true"
      ]
     },
     "execution_count": 33,
     "metadata": {},
     "output_type": "execute_result"
    }
   ],
   "source": [
    "val a = Right(())\n",
    "from(to(a))==a\n"
   ]
  },
  {
   "cell_type": "code",
   "execution_count": null,
   "metadata": {},
   "outputs": [],
   "source": []
  },
  {
   "cell_type": "markdown",
   "metadata": {},
   "source": [
    "Check that these functions are mutual inverses. For that, fix $A$ to particular types (e.g. `Boolean`, `Int`, etc.), and test the equivalences `from(to(e)) == e` and `to(from(o)) == o` for some values $o$ and $e$."
   ]
  },
  {
   "cell_type": "markdown",
   "metadata": {},
   "source": [
    "## Exercise 2"
   ]
  },
  {
   "cell_type": "markdown",
   "metadata": {},
   "source": [
    "How many functions are there of type `1+1+1 => Boolean`? Identify all of them as alternative implementations of the following signature: "
   ]
  },
  {
   "cell_type": "code",
   "execution_count": 11,
   "metadata": {},
   "outputs": [
    {
     "data": {
      "text/plain": [
       "defined \u001b[32mfunction\u001b[39m \u001b[36mf1\u001b[39m\r\n",
       "defined \u001b[32mfunction\u001b[39m \u001b[36mf2\u001b[39m\r\n",
       "defined \u001b[32mfunction\u001b[39m \u001b[36mf3\u001b[39m\r\n",
       "defined \u001b[32mfunction\u001b[39m \u001b[36mf4\u001b[39m\r\n",
       "defined \u001b[32mfunction\u001b[39m \u001b[36mf5\u001b[39m\r\n",
       "defined \u001b[32mfunction\u001b[39m \u001b[36mf6\u001b[39m\r\n",
       "defined \u001b[32mfunction\u001b[39m \u001b[36mf7\u001b[39m\r\n",
       "defined \u001b[32mfunction\u001b[39m \u001b[36mf8\u001b[39m"
      ]
     },
     "execution_count": 11,
     "metadata": {},
     "output_type": "execute_result"
    }
   ],
   "source": [
    "def f1(e: Either[Unit, Either[Unit, Unit]]): Boolean = \n",
    "    e match{\n",
    "        case Left(()) => true\n",
    "        case Right(Left(())) => true\n",
    "        case Right(Right(())) => true\n",
    "    }\n",
    "def f2(e: Either[Unit, Either[Unit, Unit]]): Boolean = \n",
    "    e match{\n",
    "        case Left(()) => true\n",
    "        case Right(Left(())) => true\n",
    "        case Right(Right(())) => false\n",
    "    }\n",
    "def f3(e: Either[Unit, Either[Unit, Unit]]): Boolean = \n",
    "    e match{\n",
    "        case Left(()) => true\n",
    "        case Right(Left(())) => false\n",
    "        case Right(Right(())) => true\n",
    "    }\n",
    "def f4(e: Either[Unit, Either[Unit, Unit]]): Boolean = \n",
    "    e match{\n",
    "        case Left(()) => true\n",
    "        case Right(Left(())) => false\n",
    "        case Right(Right(())) => false\n",
    "    }\n",
    "def f5(e: Either[Unit, Either[Unit, Unit]]): Boolean = \n",
    "    e match{\n",
    "        case Left(()) => false\n",
    "        case Right(Left(())) => true\n",
    "        case Right(Right(())) => true\n",
    "    }\n",
    "def f6(e: Either[Unit, Either[Unit, Unit]]): Boolean = \n",
    "    e match{\n",
    "        case Left(()) => false\n",
    "        case Right(Left(())) => true\n",
    "        case Right(Right(())) => false\n",
    "    }\n",
    "def f7(e: Either[Unit, Either[Unit, Unit]]): Boolean = \n",
    "    e match{\n",
    "        case Left(()) => false\n",
    "        case Right(Left(())) => false\n",
    "        case Right(Right(())) => true\n",
    "    }\n",
    "def f8(e: Either[Unit, Either[Unit, Unit]]): Boolean = \n",
    "    e match{\n",
    "        case Left(()) => false\n",
    "        case Right(Left(())) => false\n",
    "        case Right(Right(())) => false\n",
    "    }"
   ]
  },
  {
   "cell_type": "markdown",
   "metadata": {},
   "source": [
    "Idem, as alternative lambda expressions:"
   ]
  },
  {
   "cell_type": "code",
   "execution_count": null,
   "metadata": {},
   "outputs": [],
   "source": [
    "lazy val f1: Either[Unit, Either[Unit, Unit]] => Boolean = \n",
    "    ???"
   ]
  },
  {
   "cell_type": "markdown",
   "metadata": {},
   "source": [
    "## Exercise 3"
   ]
  },
  {
   "cell_type": "markdown",
   "metadata": {},
   "source": [
    "How many different implementations are there of the following function signature? Recall that two implementations will be considered different if the corresponding mathematical functions are different. Write all of them."
   ]
  },
  {
   "cell_type": "code",
   "execution_count": 13,
   "metadata": {},
   "outputs": [
    {
     "data": {
      "text/plain": [
       "defined \u001b[32mfunction\u001b[39m \u001b[36mf1\u001b[39m\r\n",
       "defined \u001b[32mfunction\u001b[39m \u001b[36mf2\u001b[39m\r\n",
       "defined \u001b[32mfunction\u001b[39m \u001b[36mf3\u001b[39m\r\n",
       "defined \u001b[32mfunction\u001b[39m \u001b[36mf4\u001b[39m\r\n",
       "defined \u001b[32mfunction\u001b[39m \u001b[36mf5\u001b[39m\r\n",
       "defined \u001b[32mfunction\u001b[39m \u001b[36mf6\u001b[39m\r\n",
       "defined \u001b[32mfunction\u001b[39m \u001b[36mf7\u001b[39m\r\n",
       "defined \u001b[32mfunction\u001b[39m \u001b[36mf8\u001b[39m\r\n",
       "defined \u001b[32mfunction\u001b[39m \u001b[36mf9\u001b[39m"
      ]
     },
     "execution_count": 13,
     "metadata": {},
     "output_type": "execute_result"
    }
   ],
   "source": [
    "def f1(b: Boolean): Either[Unit, Either[Unit, Unit]] = \n",
    "    if(b) Left(())\n",
    "    else Left(())\n",
    "\n",
    "def f2(b: Boolean): Either[Unit, Either[Unit, Unit]] = \n",
    "    if(b) Left(())\n",
    "    else Right(Left(()))\n",
    "\n",
    "def f3(b: Boolean): Either[Unit, Either[Unit, Unit]] = \n",
    "    if(b) Left(())\n",
    "    else Right(Right())\n",
    "\n",
    "def f4(b: Boolean): Either[Unit, Either[Unit, Unit]] = \n",
    "    if(b) Right(Left(()))\n",
    "    else Left(())\n",
    "\n",
    "def f5(b: Boolean): Either[Unit, Either[Unit, Unit]] = \n",
    "    if(b) Right(Left(()))\n",
    "    else Right(Left(()))\n",
    "\n",
    "def f6(b: Boolean): Either[Unit, Either[Unit, Unit]] = \n",
    "    if(b) Right(Left(()))\n",
    "    else Right(Right(()))\n",
    "\n",
    "def f7(b: Boolean): Either[Unit, Either[Unit, Unit]] = \n",
    "    if(b) Right(Right(()))\n",
    "    else Left(())\n",
    "\n",
    "def f8(b: Boolean): Either[Unit, Either[Unit, Unit]] = \n",
    "    if(b) Right(Right(()))\n",
    "    else Right(Left(()))\n",
    "\n",
    "def f9(b: Boolean): Either[Unit, Either[Unit, Unit]] = \n",
    "    if(b) Right(Right(()))\n",
    "    else Right(Right(()))\n"
   ]
  },
  {
   "cell_type": "markdown",
   "metadata": {},
   "source": [
    "## Exercise 4"
   ]
  },
  {
   "cell_type": "markdown",
   "metadata": {},
   "source": [
    "Show that the following law holds for exponent types: $(Z^X)^Y \\cong Z^{X*Y}$, for all types $X$, $Y$ and $Z$."
   ]
  },
  {
   "cell_type": "code",
   "execution_count": 15,
   "metadata": {},
   "outputs": [
    {
     "data": {
      "text/plain": [
       "defined \u001b[32mfunction\u001b[39m \u001b[36mcurry\u001b[39m"
      ]
     },
     "execution_count": 15,
     "metadata": {},
     "output_type": "execute_result"
    }
   ],
   "source": [
    "def curry[X, Y, Z](f: (X, Y) => Z): X => Y => Z = \n",
    "{\n",
    "    (x:X) => (y:Y) => f(x,y) :Z\n",
    "}"
   ]
  },
  {
   "cell_type": "code",
   "execution_count": 16,
   "metadata": {},
   "outputs": [
    {
     "data": {
      "text/plain": [
       "defined \u001b[32mfunction\u001b[39m \u001b[36muncurry\u001b[39m"
      ]
     },
     "execution_count": 16,
     "metadata": {},
     "output_type": "execute_result"
    }
   ],
   "source": [
    "def uncurry[X, Y, Z](f: X => Y => Z): (X, Y) => Z = {\n",
    "    (x:X,y:Y) => f(x)(y)\n",
    "}"
   ]
  },
  {
   "cell_type": "markdown",
   "metadata": {},
   "source": [
    "Implement function equality for the following signatures and check that both functions, `curry` and `uncurry`, are inverses of each other for two sample functions $ex1$ and $ex2$:  "
   ]
  },
  {
   "cell_type": "code",
   "execution_count": 21,
   "metadata": {},
   "outputs": [
    {
     "data": {
      "text/plain": [
       "defined \u001b[32mfunction\u001b[39m \u001b[36mequal1\u001b[39m"
      ]
     },
     "execution_count": 21,
     "metadata": {},
     "output_type": "execute_result"
    }
   ],
   "source": [
    "def equal1(f1: Boolean => Boolean => Boolean, \n",
    "          f2: Boolean => Boolean => Boolean): Boolean = {\n",
    "        f1(true)(true) == f2(true)(true) &&\n",
    "        f1(true)(false) == f2(true)(false) &&\n",
    "        f1(false)(true) == f2(false)(true) &&\n",
    "        f1(false)(false) == f2(false)(false) \n",
    "}"
   ]
  },
  {
   "cell_type": "code",
   "execution_count": 22,
   "metadata": {},
   "outputs": [
    {
     "data": {
      "text/plain": [
       "defined \u001b[32mfunction\u001b[39m \u001b[36mequal2\u001b[39m"
      ]
     },
     "execution_count": 22,
     "metadata": {},
     "output_type": "execute_result"
    }
   ],
   "source": [
    "def equal2(f1: (Boolean, Boolean) => Boolean, \n",
    "          f2: (Boolean, Boolean) => Boolean): Boolean = {\n",
    "    \n",
    "        f1(true,true) == f2(true,true) &&\n",
    "        f1(true,false) == f2(true,false) &&\n",
    "        f1(false,true) == f2(false,true) &&\n",
    "        f1(false,false) == f2(false,false)\n",
    "}"
   ]
  },
  {
   "cell_type": "code",
   "execution_count": 25,
   "metadata": {},
   "outputs": [
    {
     "data": {
      "text/plain": [
       "defined \u001b[32mfunction\u001b[39m \u001b[36mex1\u001b[39m\r\n",
       "defined \u001b[32mfunction\u001b[39m \u001b[36mex2\u001b[39m"
      ]
     },
     "execution_count": 25,
     "metadata": {},
     "output_type": "execute_result"
    }
   ],
   "source": [
    "def ex1: Boolean => Boolean => Boolean = \n",
    "    (x: Boolean) => (y:Boolean) => x||y\n",
    "\n",
    "def ex2: (Boolean, Boolean) => Boolean = \n",
    "    (x:Boolean,y:Boolean) => x || y"
   ]
  },
  {
   "cell_type": "code",
   "execution_count": 32,
   "metadata": {},
   "outputs": [
    {
     "data": {
      "text/plain": [
       "\u001b[36mres31_0\u001b[39m: \u001b[32mBoolean\u001b[39m = true\r\n",
       "\u001b[36mres31_1\u001b[39m: \u001b[32mBoolean\u001b[39m = true"
      ]
     },
     "execution_count": 32,
     "metadata": {},
     "output_type": "execute_result"
    }
   ],
   "source": [
    "// Check that curry and uncurry are inverses of each other for sample\n",
    "// functions `ex1` and `ex2`\n",
    "equal1(curry(uncurry(ex1)),ex1)\n",
    "equal2(uncurry(curry(ex2)),ex2)"
   ]
  },
  {
   "cell_type": "markdown",
   "metadata": {},
   "source": [
    "## Exercise 5"
   ]
  },
  {
   "cell_type": "markdown",
   "metadata": {},
   "source": [
    "Shows that the following law holds for exponent types: $(Y*Z)^X \\cong Y^X*Z^X$, for all types $X$, $Y$ and $Z$."
   ]
  },
  {
   "cell_type": "code",
   "execution_count": 46,
   "metadata": {},
   "outputs": [
    {
     "data": {
      "text/plain": [
       "defined \u001b[32mfunction\u001b[39m \u001b[36mfrom\u001b[39m"
      ]
     },
     "execution_count": 46,
     "metadata": {},
     "output_type": "execute_result"
    }
   ],
   "source": [
    "def from[X, Y, Z](a : X => (Y,Z)): (X=>Y,X=>Z) = {\n",
    "    ((x:X)=>a(x)._1,x=>a(x)._2)\n",
    "}"
   ]
  },
  {
   "cell_type": "code",
   "execution_count": 48,
   "metadata": {},
   "outputs": [
    {
     "data": {
      "text/plain": [
       "defined \u001b[32mfunction\u001b[39m \u001b[36mto\u001b[39m"
      ]
     },
     "execution_count": 48,
     "metadata": {},
     "output_type": "execute_result"
    }
   ],
   "source": [
    "def to[X, Y, Z] (a:(X=>Y,X=>Z)) : X=>(Y,Z) ={\n",
    "   (x:X)=>(a._1(x),a._2(x))\n",
    "    \n",
    "}"
   ]
  },
  {
   "cell_type": "markdown",
   "metadata": {},
   "source": [
    "Fix the type parameters to particular types $A$, $B$ and $C$, implement equality for the corresponding signatures and check that both functions, `from[A, B, C]` and `to[A, B, C]`, are inverses of each other given two sample functions of your choice.  "
   ]
  },
  {
   "cell_type": "code",
   "execution_count": null,
   "metadata": {},
   "outputs": [],
   "source": []
  }
 ],
 "metadata": {
  "kernelspec": {
   "display_name": "Scala",
   "language": "scala",
   "name": "scala"
  },
  "language_info": {
   "codemirror_mode": "text/x-scala",
   "file_extension": ".sc",
   "mimetype": "text/x-scala",
   "name": "scala",
   "nbconvert_exporter": "script",
   "version": "2.13.3"
  }
 },
 "nbformat": 4,
 "nbformat_minor": 4
}
